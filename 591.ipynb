{
 "cells": [
  {
   "cell_type": "code",
   "execution_count": 16,
   "metadata": {
    "collapsed": false
   },
   "outputs": [
    {
     "name": "stderr",
     "output_type": "stream",
     "text": [
      "C:\\Anaconda3\\lib\\site-packages\\requests\\packages\\urllib3\\connectionpool.py:821: InsecureRequestWarning: Unverified HTTPS request is being made. Adding certificate verification is strongly advised. See: https://urllib3.readthedocs.org/en/latest/security.html\n",
      "  InsecureRequestWarning)\n"
     ]
    },
    {
     "name": "stdout",
     "output_type": "stream",
     "text": [
      "可售可短租！公館台大高樓3房，立即入住！ 104.9坪 200,000元\n",
      "===================\n",
      "忠孝復興生活機能便利、室內空間大、裝潢美 47.6坪 60,000元\n",
      "===================\n",
      "「大安森林MRT」菁選集時尚1+1房 15.5坪 32,800元\n",
      "===================\n",
      "「大安站」靜巷電梯華廈4房，租金可議 42.3坪 48,000元\n",
      "===================\n",
      "近大安森林公園、面林蔭大道及公務人力中心 48.1坪 48,000元\n",
      "===================\n",
      "仁愛國小101景觀大樓 32坪 42,000元\n",
      "===================\n",
      "空間大好住家 30坪 18,000元\n",
      "===================\n",
      "遠企金鼎景觀高樓 43坪 43,000元\n",
      "===================\n",
      "近101保全管理電梯2房，採光佳家具全。 16坪 28,500元\n",
      "===================\n",
      "大安區，大安森林公園旁，家電家俱全！ 38坪 89,000元\n",
      "===================\n",
      "近仁愛路學校銀行醫院商圏，空間大光線足。 45坪 50,000元\n",
      "===================\n",
      "大安區頂級時尚現代風裝潢兩房~錯過不再 33.9坪 53,000元\n",
      "===================\n",
      "近復興南路.科技大樓MRT.優質1+1 17.9坪 18,000元\n",
      "===================\n",
      "大安捷運大坪數近信義路復興南路大安路 54坪 35,000元\n",
      "===================\n",
      "生活機能優交通便利靜巷光線足前後陽台 34.8坪 46,000元\n",
      "===================\n",
      "金華街永康街官邸旁★師大東門古亭捷運三房 28坪 30,000元\n",
      "===================\n",
      "全新裝潢全新家俱電齊全高樓景觀 38坪 115,000元\n",
      "===================\n",
      "大安美房東區2房精緻優越地段東區 25坪 35,000元\n",
      "===================\n",
      "台北捷運信義線附近優質美裝潢好3房 28坪 39,000元\n",
      "===================\n",
      "家具齊全國父紀念館站不遠精裝潢3房 28坪 46,000元\n",
      "===================\n"
     ]
    },
    {
     "name": "stderr",
     "output_type": "stream",
     "text": [
      "C:\\Anaconda3\\lib\\site-packages\\bs4\\__init__.py:166: UserWarning: No parser was explicitly specified, so I'm using the best available HTML parser for this system (\"lxml\"). This usually isn't a problem, but if you run this code on another system, or in a different virtual environment, it may use a different parser and behave differently.\n",
      "\n",
      "To get rid of this warning, change this:\n",
      "\n",
      " BeautifulSoup([your markup])\n",
      "\n",
      "to this:\n",
      "\n",
      " BeautifulSoup([your markup], \"lxml\")\n",
      "\n",
      "  markup_type=markup_type))\n"
     ]
    }
   ],
   "source": [
    "import requests\n",
    "from bs4 import BeautifulSoup\n",
    "headers = {\n",
    "'User-Agent':'Mozilla/5.0 (Windows NT 6.1; WOW64) AppleWebKit/537.36 (KHTML, like Gecko) Chrome/54.0.2840.99 Safari/537.36',\n",
    "'Cookie':'PHPSESSID=ddf889d8fa1316b684342ede76c5ab59; guide_popbox_sale=1; urlJumpIp=1; urlJumpIpByTxt=%E5%8F%B0%E5%8C%97%E5%B8%82; _ga=GA1.3.1522478930.1477018931; __asc=05cf53a41588ab699b14deba31c; __auc=3b87ceab157e5309346cdd33697; ba_cid=a%3A5%3A%7Bs%3A6%3A%22ba_cid%22%3Bs%3A32%3A%22078e3fd9641b204da0d3f5eb1c421167%22%3Bs%3A7%3A%22page_ex%22%3Bs%3A53%3A%22https%3A%2F%2Frent.591.com.tw%2Fhouse-rentSale-1-5-1-0-0.html%22%3Bs%3A4%3A%22page%22%3Bs%3A53%3A%22https%3A%2F%2Frent.591.com.tw%2Fhouse-rentSale-1-5-1-0-0.html%22%3Bs%3A7%3A%22time_ex%22%3Bi%3A1479796947%3Bs%3A4%3A%22time%22%3Bi%3A1479797116%3B%7D; listview=img'\n",
    "}\n",
    "res = requests.get('https://rent.591.com.tw/index.php?module=search&action=rslist&is_new_list=1&type=1&searchtype=1&region=1&section=5&kind=1&rentprice=0&listview=img&firstRow=20&totalRows=673', verify=False, headers = headers)\n",
    "soup = BeautifulSoup(res.json()['main'])\n",
    "#print(res.text)\n",
    "for li in soup.select('.shInfo'):\n",
    "    print(li.select('.title')[0].text.strip(),li.select('.area')[0].text.strip(), li.select('.price')[0].text.strip())\n",
    "    print('===================')"
   ]
  }
 ],
 "metadata": {
  "anaconda-cloud": {},
  "kernelspec": {
   "display_name": "Python [Root]",
   "language": "python",
   "name": "Python [Root]"
  },
  "language_info": {
   "codemirror_mode": {
    "name": "ipython",
    "version": 3
   },
   "file_extension": ".py",
   "mimetype": "text/x-python",
   "name": "python",
   "nbconvert_exporter": "python",
   "pygments_lexer": "ipython3",
   "version": "3.5.2"
  }
 },
 "nbformat": 4,
 "nbformat_minor": 0
}
